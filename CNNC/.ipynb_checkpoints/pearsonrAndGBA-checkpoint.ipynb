{
 "cells": [
  {
   "cell_type": "code",
   "execution_count": 227,
   "metadata": {},
   "outputs": [
    {
     "name": "stdout",
     "output_type": "stream",
     "text": [
      "The autoreload extension is already loaded. To reload it, use:\n",
      "  %reload_ext autoreload\n"
     ]
    }
   ],
   "source": [
    "from __future__ import print_function\n",
    "import scipy.stats\n",
    "import numpy as np\n",
    "import h5py\n",
    "import csv\n",
    "import sys,os\n",
    "import matplotlib.pyplot as plt\n",
    "import pandas as pd\n",
    "from pandas import Series,DataFrame\n",
    "import seaborn as sns\n",
    "from mpl_toolkits.mplot3d import Axes3D\n",
    "sns.set(font_scale=1.5)\n",
    "import palettable\n",
    "from math import*\n",
    "%matplotlib inline\n",
    "%load_ext autoreload\n",
    "%autoreload 2"
   ]
  },
  {
   "cell_type": "code",
   "execution_count": 233,
   "metadata": {},
   "outputs": [],
   "source": [
    "os.environ[\"HDF5_USE_FILE_LOCKING\"] = \"FALSE\"\n",
    "datapath=\"human1\"\n",
    "path=datapath+\"/generatedata/generatepair.csv\""
   ]
  },
  {
   "cell_type": "code",
   "execution_count": 229,
   "metadata": {},
   "outputs": [
    {
     "name": "stdout",
     "output_type": "stream",
     "text": [
      "read lib\n"
     ]
    }
   ],
   "source": [
    "store = h5py.File(\"database/hey.hdf5\",'r+')\n",
    "counts = store['counts']\n",
    "print('read lib')"
   ]
  },
  {
   "cell_type": "code",
   "execution_count": 230,
   "metadata": {},
   "outputs": [],
   "source": [
    "with open(path) as f:\n",
    "    reader = csv.reader(f)\n",
    "    rec = [row for row in reader]"
   ]
  },
  {
   "cell_type": "code",
   "execution_count": 231,
   "metadata": {},
   "outputs": [
    {
     "data": {
      "text/plain": [
       "['1',\n",
       " '1',\n",
       " '1',\n",
       " '1',\n",
       " '1',\n",
       " '1',\n",
       " '1',\n",
       " '1',\n",
       " '1',\n",
       " '1',\n",
       " '0',\n",
       " '0',\n",
       " '0',\n",
       " '0',\n",
       " '0',\n",
       " '0',\n",
       " '0',\n",
       " '0',\n",
       " '0',\n",
       " '0']"
      ]
     },
     "execution_count": 231,
     "metadata": {},
     "output_type": "execute_result"
    }
   ],
   "source": [
    "length=len(rec)\n",
    "sl=int(length/3)\n",
    "test=[row[0] for row in rec[0:sl]]+[row[1] for row in rec[0:sl]]\n",
    "label=['1' for row in rec[0:sl]]+['0' for row in rec[0:sl]]\n",
    "train=[row[0] for row in rec[sl:length]]\n",
    "label"
   ]
  },
  {
   "cell_type": "code",
   "execution_count": 232,
   "metadata": {},
   "outputs": [
    {
     "name": "stdout",
     "output_type": "stream",
     "text": [
      "0.5\n"
     ]
    }
   ],
   "source": [
    "s=0\n",
    "for i in range(len(test)):\n",
    "    x=np.array(counts[test[i]])\n",
    "    k=0\n",
    "    for j in range(len(train)):\n",
    "        y=np.array(counts[train[j]])  \n",
    "        cc=scipy.stats.pearsonr(x,y)[0]\n",
    "        k=k+cc\n",
    "    if abs(k)>0.5 and label[i]=='1':\n",
    "        s=s+1\n",
    "    elif abs(k)<0.5 and label[i]=='0':\n",
    "        s=s+1\n",
    "print (s/len(label))"
   ]
  },
  {
   "cell_type": "code",
   "execution_count": null,
   "metadata": {},
   "outputs": [],
   "source": []
  }
 ],
 "metadata": {
  "kernelspec": {
   "display_name": "Python 3.7.9 64-bit",
   "language": "python",
   "name": "python37964bita3c88288f9c540afb218c0af915cbc7c"
  },
  "language_info": {
   "codemirror_mode": {
    "name": "ipython",
    "version": 3
   },
   "file_extension": ".py",
   "mimetype": "text/x-python",
   "name": "python",
   "nbconvert_exporter": "python",
   "pygments_lexer": "ipython3",
   "version": "3.7.9"
  }
 },
 "nbformat": 4,
 "nbformat_minor": 4
}
